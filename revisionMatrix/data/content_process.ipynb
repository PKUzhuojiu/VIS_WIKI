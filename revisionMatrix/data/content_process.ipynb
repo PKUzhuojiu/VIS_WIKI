{
 "cells": [
  {
   "cell_type": "code",
   "execution_count": 1,
   "metadata": {},
   "outputs": [
    {
     "name": "stdout",
     "output_type": "stream",
     "text": [
      "try to get page, id: 3854, url_id: 997013342\n",
      "succeed to get page 3854!\n",
      "try to get page, id: 3855, url_id: 997012719\n",
      "succeed to get page 3855!\n",
      "try to get page, id: 3856, url_id: 997011238\n",
      "succeed to get page 3856!\n",
      "finish\n"
     ]
    }
   ],
   "source": [
    "import requests as rq\n",
    "from bs4 import BeautifulSoup, Comment\n",
    "import csv\n",
    "import unicodedata\n",
    "import numpy\n",
    "import json\n",
    "\n",
    "# 爬取的html信息中仍有冗余，本程序用于删除其中不关心的信息\n",
    "# 从webcontent文件中的txt文件读入数据，处理后写入processedContent文件夹\n",
    "# 可以写入为html或者txt\n",
    "# html页面可以直接双击打开，便于查看\n",
    "# 写入txt前，可以进一步删除style等信息，以便匹配\n",
    "\n",
    "# 需要修改的地方有：\n",
    "# 1. start_row, max_row 起止id的索引\n",
    "\n",
    "max_row = 3844 # 请修改\n",
    "start_row = 3834 # 请修改\n",
    "with open(\"../settings.json\", \"r\") as f_set:\n",
    "    setting_json = f_set.read()\n",
    "    jstype = json.loads(setting_json)\n",
    "    start_row = jstype[\"startid\"]\n",
    "    max_row = jstype[\"endid\"]\n",
    "\n",
    "with open('edit_history.csv', 'r', encoding='utf-8') as f1:\n",
    "    rows = csv.reader(f1)\n",
    "    for row in rows:\n",
    "        id = int(row[0])\n",
    "        if id < start_row:\n",
    "            continue\n",
    "        if id > max_row:\n",
    "            print('finish')\n",
    "            break\n",
    "        page_oldid = str(row[1])\n",
    "        print(f'try to get page, id: {id}, url_id: {page_oldid}')\n",
    "        try:          \n",
    "            with open(f'./content_{id}_{page_oldid}'+'.txt', 'r', encoding='utf-8') as f2:\n",
    "                r = f2.read()\n",
    "                soup = BeautifulSoup(r, 'lxml')\n",
    "                \n",
    "                # 删除掉一些内容\n",
    "                extractList = []\n",
    "                # noprint\n",
    "                noprints = soup.findAll('div', class_='noprint')\n",
    "                extractList.extend(noprints)\n",
    "                # [noprint.extract() for noprint in noprints]\n",
    "                # contentSub\n",
    "                contentsub = soup.find('div', id='contentSub')\n",
    "                # contentsub.extract()\n",
    "                extractList.append(contentsub)\n",
    "                # contentsub2\n",
    "                contentsub2 = soup.find('div', id='contentSub2')\n",
    "                # contentsub2.extract()\n",
    "                extractList.append(contentsub2)\n",
    "                # jump link\n",
    "                jump_link = soup.findAll('a', class_='mw-jump-link')\n",
    "                extractList.extend(jump_link)\n",
    "                # hatnote\n",
    "                hatnotes = soup.findAll('div', class_='hatnote')\n",
    "                extractList.extend(hatnotes)\n",
    "\n",
    "                [i.extract() for i in extractList]\n",
    "                # write in html\n",
    "                # with open(f'./content_{id}_{page_oldid}'+'.html', 'w', encoding='utf-8') as f3:\n",
    "                #     f3.write(str(soup))\n",
    "                \n",
    "                extractList = []\n",
    "                \n",
    "                [i.extract() for i in extractList]\n",
    "                # write in txt\n",
    "                with open(f'./{id}'+'.txt', 'w', encoding='utf-8') as f4:#content_{id}_{page_oldid}'+'.txt', 'w', encoding='utf-8') as f4:\n",
    "                    f4.write(str(soup))\n",
    "                print(f'succeed to get page {id}!')\n",
    "        except:\n",
    "            print(f'fail to get page {id}!')\n",
    "            break\n"
   ]
  },
  {
   "cell_type": "code",
   "execution_count": null,
   "metadata": {},
   "outputs": [],
   "source": []
  }
 ],
 "metadata": {
  "interpreter": {
   "hash": "407730e7b1f53fc8a0b1d9241751e40cdef0af9ebe90eb3a995d30f08872e3ca"
  },
  "kernelspec": {
   "display_name": "Python 3.7.11 64-bit (conda)",
   "language": "python",
   "name": "python3"
  },
  "language_info": {
   "codemirror_mode": {
    "name": "ipython",
    "version": 3
   },
   "file_extension": ".py",
   "mimetype": "text/x-python",
   "name": "python",
   "nbconvert_exporter": "python",
   "pygments_lexer": "ipython3",
   "version": "3.8.8"
  },
  "orig_nbformat": 4
 },
 "nbformat": 4,
 "nbformat_minor": 2
}
